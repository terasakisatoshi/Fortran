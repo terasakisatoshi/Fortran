{
 "cells": [
  {
   "cell_type": "code",
   "execution_count": 1,
   "metadata": {
    "collapsed": true
   },
   "outputs": [],
   "source": [
    "import numpy as np \n",
    "from matplotlib import pyplot as plt \n",
    "import matplotlib.animation as animation"
   ]
  },
  {
   "cell_type": "code",
   "execution_count": 2,
   "metadata": {},
   "outputs": [],
   "source": [
    "data = np.loadtxt(\"fresnel.txt\",delimiter=\",\")\n",
    "ts=data[:,0]\n",
    "cxs=data[:,1]\n",
    "sxs=data[:,2]"
   ]
  },
  {
   "cell_type": "code",
   "execution_count": 26,
   "metadata": {},
   "outputs": [
    {
     "name": "stderr",
     "output_type": "stream",
     "text": [
      "C:\\ProgramData\\Miniconda3\\lib\\site-packages\\matplotlib\\pyplot.py:528: RuntimeWarning: More than 20 figures have been opened. Figures created through the pyplot interface (`matplotlib.pyplot.figure`) are retained until explicitly closed and may consume too much memory. (To control this warning, see the rcParam `figure.max_open_warning`).\n",
      "  max_open_warning, RuntimeWarning)\n",
      "C:\\ProgramData\\Miniconda3\\lib\\site-packages\\matplotlib\\animation.py:1218: UserWarning: MovieWriter imagemagick unavailable\n",
      "  warnings.warn(\"MovieWriter %s unavailable\" % writer)\n"
     ]
    }
   ],
   "source": [
    "fig,ax=plt.subplots(figsize=(10,10))\n",
    "\n",
    "def init():\n",
    "    ax.set_xlabel(\"C(t)\")\n",
    "    ax.set_ylabel(\"S(t)\")\n",
    "    ax.plot(cxs,sxs)\n",
    "    ax.set_aspect('equal', adjustable='box')\n",
    "\n",
    "def animate(t,*fargs):\n",
    "    ax.set_title(\"param t={}\".format(t))\n",
    "    ax.lines=ax.lines[:1]\n",
    "    ax.plot([cxs[t]],[sxs[t]],'r*')\n",
    "    \n",
    "ani = animation.FuncAnimation(fig, animate,frames=len(ts),fargs=(fig,ax),interval=10,init_func=init)\n",
    "\n",
    "ani.save(\"fresnel.html\", writer=\"imagemagick\")"
   ]
  },
  {
   "cell_type": "code",
   "execution_count": null,
   "metadata": {
    "collapsed": true
   },
   "outputs": [],
   "source": []
  }
 ],
 "metadata": {
  "kernelspec": {
   "display_name": "Python 3",
   "language": "python",
   "name": "python3"
  },
  "language_info": {
   "codemirror_mode": {
    "name": "ipython",
    "version": 3
   },
   "file_extension": ".py",
   "mimetype": "text/x-python",
   "name": "python",
   "nbconvert_exporter": "python",
   "pygments_lexer": "ipython3",
   "version": "3.5.4"
  }
 },
 "nbformat": 4,
 "nbformat_minor": 2
}
