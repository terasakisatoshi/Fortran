{
 "cells": [
  {
   "cell_type": "markdown",
   "metadata": {},
   "source": [
    "# Julia で連分数"
   ]
  },
  {
   "cell_type": "markdown",
   "metadata": {},
   "source": [
    "Fresnelの余弦積分，Fresnelの正弦積分をそれぞれ次で定義する:\n",
    "$$C(x)=\\int_{0}^{x} \\cos\\left(\\frac{\\pi}{2}t^2\\right)dt , \\quad S(x)=\\int_{0}^{x} \\sin\\left(\\frac{\\pi}{2}t^2\\right)dt.$$\n",
    "このとき\n",
    "$$C(x)+iS(x)=\\int_{0}^{x} e^{i\\pi t^2/2}dt$$\n",
    "となる．[2] では $x\\geq 2$ の時に次の式を用いて計算している：\n",
    "$$\\int_{0}^{x} e^{i\\pi t^2/2}dt=\\frac{1+i}{2}-\\frac{i}{\\pi x} e^{i\\pi x^2/2}H(z).$$\n",
    "ここで$z=i/\\pi x^2$ であり $H(z)$ は連分数で定まる次の形をしている関数である．\n",
    "$$H(z)=\\frac{1}{1+\\frac{z}{1+\\frac{2z}{1+\\frac{3z}{1+...}}}}$$\n",
    "\n",
    "というわけでJuliaでFresnel積分の（スクラッチによる）実装をしてみたかったときに連分数の計算が必要になった."
   ]
  },
  {
   "cell_type": "markdown",
   "metadata": {},
   "source": [
    "## 方法１(Reference [1])"
   ]
  },
  {
   "cell_type": "code",
   "execution_count": 1,
   "metadata": {},
   "outputs": [],
   "source": [
    "using SymPy"
   ]
  },
  {
   "cell_type": "code",
   "execution_count": 2,
   "metadata": {},
   "outputs": [
    {
     "data": {
      "text/plain": [
       "f (generic function with 1 method)"
      ]
     },
     "execution_count": 2,
     "metadata": {},
     "output_type": "execute_result"
    }
   ],
   "source": [
    "function f(z::Number, n::Integer)\n",
    "    cf::typeof(inv(z))=1\n",
    "    for k in n:-1:1\n",
    "        cf = 1+k*z/cf\n",
    "    end\n",
    "    return inv(cf)\n",
    "end"
   ]
  },
  {
   "cell_type": "code",
   "execution_count": 3,
   "metadata": {},
   "outputs": [
    {
     "data": {
      "text/latex": [
       "$$\\frac{1}{\\frac{z}{\\frac{2 z}{\\frac{3 z}{\\frac{4 z}{\\frac{5 z}{6 z + 1} + 1} + 1} + 1} + 1} + 1}$$"
      ]
     },
     "metadata": {},
     "output_type": "display_data"
    }
   ],
   "source": [
    "display(\"text/latex\",f(Sym(:z),6))"
   ]
  },
  {
   "cell_type": "markdown",
   "metadata": {},
   "source": [
    "## 方法２(Reference [2])\n",
    "\n",
    "\n",
    "\\begin{align}\n",
    "&A_{-1}=1,B_{-1}=0, \\\\\n",
    "&A_{0}=1,B_{0}=1, \\\\\n",
    "&A_k=A_{k-1}+kzA_{k-2} \\quad (k=1,2,3,...)\\\\\n",
    "&B_k=B_{k-1}+kzB_{k-2} \\quad (k=1,2,3,...)\n",
    "\\end{align}\n",
    "\n",
    "で定まる数列 $A_N, B_N$ を計算して $1/(A_N/B_N)$ とする．\n"
   ]
  },
  {
   "cell_type": "code",
   "execution_count": 4,
   "metadata": {},
   "outputs": [
    {
     "data": {
      "text/plain": [
       "g (generic function with 1 method)"
      ]
     },
     "execution_count": 4,
     "metadata": {},
     "output_type": "execute_result"
    }
   ],
   "source": [
    "function g(z::Number, n::Integer)\n",
    "    a_old=1 ; b_old=0\n",
    "    a_now=1 ; b_now=1\n",
    "    a=0\n",
    "    b=0\n",
    "    for k in 1:n\n",
    "        a=a_now+k*z*a_old\n",
    "        b=b_now+k*z*b_old\n",
    "        a_old=a_now\n",
    "        b_old=b_now\n",
    "        a_now=a\n",
    "        b_now=b\n",
    "    end\n",
    "    print(\"a=$a b=$b\")\n",
    "    return inv(a/b)\n",
    "end"
   ]
  },
  {
   "cell_type": "code",
   "execution_count": 5,
   "metadata": {},
   "outputs": [
    {
     "data": {
      "text/latex": [
       "$$\\frac{4 z \\left(2 z + 1\\right) + 5 z \\left(5 z + 1\\right) + 6 z \\left(4 z \\left(2 z + 1\\right) + 5 z + 1\\right) + 5 z + 1}{3 z \\left(z + 1\\right) + 4 z \\left(3 z + 1\\right) + 5 z \\left(3 z \\left(z + 1\\right) + 3 z + 1\\right) + 6 z \\left(3 z \\left(z + 1\\right) + 4 z \\left(3 z + 1\\right) + 3 z + 1\\right) + 3 z + 1}$$"
      ]
     },
     "metadata": {},
     "output_type": "display_data"
    },
    {
     "name": "stdout",
     "output_type": "stream",
     "text": [
      "a=3*z*(z + 1) + 4*z*(3*z + 1) + 5*z*(3*z*(z + 1) + 3*z + 1) + 6*z*(3*z*(z + 1) + 4*z*(3*z + 1) + 3*z + 1) + 3*z + 1 b=4*z*(2*z + 1) + 5*z*(5*z + 1) + 6*z*(4*z*(2*z + 1) + 5*z + 1) + 5*z + 1"
     ]
    }
   ],
   "source": [
    "display(\"text/latex\",g(Sym(:z),6))"
   ]
  },
  {
   "cell_type": "markdown",
   "metadata": {},
   "source": [
    "## 数値での比較"
   ]
  },
  {
   "cell_type": "code",
   "execution_count": 6,
   "metadata": {},
   "outputs": [
    {
     "name": "stdout",
     "output_type": "stream",
     "text": [
      "a=1.72468885394813e64 b=1.3750788773870185e64"
     ]
    },
    {
     "data": {
      "text/plain": [
       "true"
      ]
     },
     "execution_count": 6,
     "metadata": {},
     "output_type": "execute_result"
    }
   ],
   "source": [
    "a=rand()\n",
    "n=100\n",
    "f(a,n)-g(a,n) <1e-15"
   ]
  },
  {
   "cell_type": "code",
   "execution_count": 7,
   "metadata": {},
   "outputs": [
    {
     "name": "stdout",
     "output_type": "stream",
     "text": [
      "  0.000006 seconds (84 allocations: 6.107 KiB)\n"
     ]
    },
    {
     "data": {
      "text/plain": [
       "0.7972909862780239"
      ]
     },
     "execution_count": 7,
     "metadata": {},
     "output_type": "execute_result"
    }
   ],
   "source": [
    "@time f(a,n)"
   ]
  },
  {
   "cell_type": "code",
   "execution_count": 8,
   "metadata": {},
   "outputs": [
    {
     "name": "stdout",
     "output_type": "stream",
     "text": [
      "a=1.72468885394813e64 b=1.3750788773870185e64  0.000238 seconds (1.30 k allocations: 21.016 KiB)\n"
     ]
    },
    {
     "data": {
      "text/plain": [
       "0.7972909862780234"
      ]
     },
     "execution_count": 8,
     "metadata": {},
     "output_type": "execute_result"
    }
   ],
   "source": [
    "@time g(a,n)"
   ]
  },
  {
   "cell_type": "markdown",
   "metadata": {},
   "source": [
    "## g について\n",
    "-  n=1000とかにするとa,bともに発散してどうしようもなくなる\n",
    "- 上のtime測定でもわかるようにメモリの使用量もちがうっぽい"
   ]
  },
  {
   "cell_type": "code",
   "execution_count": 9,
   "metadata": {},
   "outputs": [
    {
     "name": "stdout",
     "output_type": "stream",
     "text": [
      "a=Inf b=Inf  0.000308 seconds (13.07 k allocations: 204.641 KiB)\n"
     ]
    },
    {
     "data": {
      "text/plain": [
       "NaN"
      ]
     },
     "execution_count": 9,
     "metadata": {},
     "output_type": "execute_result"
    }
   ],
   "source": [
    "a=5.5\n",
    "n=1000\n",
    "@time g(a,n)"
   ]
  },
  {
   "cell_type": "markdown",
   "metadata": {},
   "source": [
    "# Reference:\n",
    "- [1] :https://twitter.com/genkuroki/status/898008651033489408\n",
    "- [2] :田口俊弘著 Fortan ハンドブック 270頁 Key Element6.1 連分数の計算方法 技術評論社より\n",
    "- [3] :http://www.aip.de/groups/soe/local/numres/bookcpdf/c6-9.pdf"
   ]
  },
  {
   "cell_type": "code",
   "execution_count": null,
   "metadata": {
    "collapsed": true
   },
   "outputs": [],
   "source": []
  }
 ],
 "metadata": {
  "kernelspec": {
   "display_name": "Julia 0.6.1",
   "language": "julia",
   "name": "julia-0.6"
  },
  "language_info": {
   "file_extension": ".jl",
   "mimetype": "application/julia",
   "name": "julia",
   "version": "0.6.1"
  }
 },
 "nbformat": 4,
 "nbformat_minor": 2
}
